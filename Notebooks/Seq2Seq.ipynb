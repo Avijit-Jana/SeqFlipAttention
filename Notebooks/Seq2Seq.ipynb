{
  "nbformat": 4,
  "nbformat_minor": 0,
  "metadata": {
    "colab": {
      "provenance": [],
      "gpuType": "T4"
    },
    "kernelspec": {
      "name": "python3",
      "display_name": "Python 3"
    },
    "language_info": {
      "name": "python"
    },
    "accelerator": "GPU"
  },
  "cells": [
    {
      "cell_type": "markdown",
      "source": [
        "# Importing Libraries"
      ],
      "metadata": {
        "id": "-qx1spdW4wrh"
      }
    },
    {
      "cell_type": "code",
      "source": [
        "!pip install tqdm"
      ],
      "metadata": {
        "colab": {
          "base_uri": "https://localhost:8080/"
        },
        "id": "8exR6dAe4cg-",
        "outputId": "be07e8c1-591e-438f-dcab-2fd23897c840"
      },
      "execution_count": 29,
      "outputs": [
        {
          "output_type": "stream",
          "name": "stdout",
          "text": [
            "Requirement already satisfied: tqdm in /usr/local/lib/python3.11/dist-packages (4.67.1)\n"
          ]
        }
      ]
    },
    {
      "cell_type": "code",
      "source": [
        "import argparse\n",
        "import random\n",
        "import os\n",
        "from pathlib import Path\n",
        "from tqdm import tqdm\n",
        "\n",
        "import torch\n",
        "import torch.nn as nn\n",
        "import torch.optim as optim\n",
        "from torch.utils.data import Dataset, DataLoader\n",
        "from torch.nn.utils.rnn import pack_padded_sequence, pad_packed_sequence\n",
        "from torch.utils.tensorboard import SummaryWriter\n",
        "import matplotlib.pyplot as plt"
      ],
      "metadata": {
        "id": "MS5YVaES4YHR"
      },
      "execution_count": 30,
      "outputs": []
    },
    {
      "cell_type": "markdown",
      "source": [
        "# Dataset Generation"
      ],
      "metadata": {
        "id": "dASXhj5l3eR8"
      }
    },
    {
      "cell_type": "code",
      "source": [
        "def set_seed(seed: int = 42):\n",
        "    random.seed(seed)\n",
        "    torch.manual_seed(seed)\n",
        "    torch.cuda.manual_seed_all(seed)\n",
        "    torch.backends.cudnn.deterministic = True\n",
        "    torch.backends.cudnn.benchmark = False\n",
        "\n",
        "\n",
        "class ReverseDataset(Dataset):\n",
        "    def __init__(self, data, pad_idx=0):\n",
        "        self.data = data\n",
        "        self.pad_idx = pad_idx\n",
        "\n",
        "    def __len__(self):\n",
        "        return len(self.data)\n",
        "\n",
        "    def __getitem__(self, idx):\n",
        "        src, trg = self.data[idx]\n",
        "        return torch.tensor(src, dtype=torch.long), torch.tensor(trg, dtype=torch.long)\n",
        "\n",
        "    @staticmethod\n",
        "    def collate_fn(batch):\n",
        "        src_batch, trg_batch = zip(*batch)\n",
        "        lengths = [len(s) for s in src_batch]\n",
        "        max_len = max(lengths)\n",
        "        src_padded = [torch.cat([s, torch.zeros(max_len - len(s), dtype=torch.long)]) for s in src_batch]\n",
        "        trg_padded = [torch.cat([t, torch.zeros(max_len - len(t), dtype=torch.long)]) for t in trg_batch]\n",
        "        return torch.stack(src_padded), torch.stack(trg_padded), torch.tensor(lengths, dtype=torch.long)"
      ],
      "metadata": {
        "id": "WLUPdrpr35vt"
      },
      "execution_count": 31,
      "outputs": []
    },
    {
      "cell_type": "markdown",
      "source": [
        "# Model Architecture"
      ],
      "metadata": {
        "id": "ydS49wS74Qsk"
      }
    },
    {
      "cell_type": "code",
      "source": [
        "class Encoder(nn.Module):\n",
        "    def __init__(self, vocab_size, embed_size, hidden_size, num_layers=1, dropout=0.1, bidirectional=True):\n",
        "        super().__init__()\n",
        "        self.embedding = nn.Embedding(vocab_size, embed_size)\n",
        "        self.gru = nn.GRU(\n",
        "            embed_size,\n",
        "            hidden_size,\n",
        "            num_layers,\n",
        "            batch_first=True,\n",
        "            dropout=dropout if num_layers > 1 else 0,\n",
        "            bidirectional=bidirectional\n",
        "        )\n",
        "        self.num_layers = num_layers\n",
        "        self.num_directions = 2 if bidirectional else 1\n",
        "        self.hidden_size = hidden_size\n",
        "\n",
        "    def forward(self, src, lengths):\n",
        "        embedded = self.embedding(src)\n",
        "        packed = pack_padded_sequence(embedded, lengths.cpu(), batch_first=True, enforce_sorted=False)\n",
        "        outputs, hidden = self.gru(packed)\n",
        "        outputs, _ = pad_packed_sequence(outputs, batch_first=True)\n",
        "        if self.num_directions == 2:\n",
        "            hidden = hidden.view(self.num_layers, 2, -1, self.hidden_size)\n",
        "            hidden = torch.cat([hidden[:, 0], hidden[:, 1]], dim=2)\n",
        "        return outputs, hidden\n",
        "\n",
        "\n",
        "class Attention(nn.Module):\n",
        "    def __init__(self, enc_hidden_size, dec_hidden_size):\n",
        "        super().__init__()\n",
        "        self.attn = nn.Linear(enc_hidden_size + dec_hidden_size, dec_hidden_size)\n",
        "        self.v = nn.Parameter(torch.rand(dec_hidden_size))\n",
        "\n",
        "    def forward(self, hidden, encoder_outputs, mask=None):\n",
        "        seq_len = encoder_outputs.size(1)\n",
        "        hidden = hidden.unsqueeze(1).repeat(1, seq_len, 1)\n",
        "        energy = torch.tanh(self.attn(torch.cat((hidden, encoder_outputs), dim=2)))\n",
        "        energy = energy.permute(0, 2, 1)\n",
        "        v = self.v.repeat(encoder_outputs.size(0), 1).unsqueeze(1)\n",
        "        weights = torch.bmm(v, energy).squeeze(1)\n",
        "        if mask is not None:\n",
        "            weights = weights.masked_fill(mask == 0, -1e9)\n",
        "        return torch.softmax(weights, dim=1)\n",
        "\n",
        "\n",
        "class Decoder(nn.Module):\n",
        "    def __init__(self, vocab_size, embed_size, enc_hidden_size, dec_hidden_size, attention, num_layers=1, dropout=0.1):\n",
        "        super().__init__()\n",
        "        self.embedding = nn.Embedding(vocab_size, embed_size)\n",
        "        self.attention = attention\n",
        "        self.gru = nn.GRU(\n",
        "            embed_size + enc_hidden_size,\n",
        "            dec_hidden_size,\n",
        "            num_layers,\n",
        "            batch_first=True,\n",
        "            dropout=dropout if num_layers > 1 else 0\n",
        "        )\n",
        "        self.fc = nn.Linear(dec_hidden_size + enc_hidden_size, vocab_size)\n",
        "\n",
        "    def forward(self, input_step, hidden, encoder_outputs, mask=None):\n",
        "        embedded = self.embedding(input_step).unsqueeze(1)\n",
        "        dec_hidden = hidden[-1]\n",
        "        attn_weights = self.attention(dec_hidden, encoder_outputs, mask)\n",
        "        context = torch.bmm(attn_weights.unsqueeze(1), encoder_outputs)\n",
        "        rnn_input = torch.cat((embedded, context), dim=2)\n",
        "        output, hidden = self.gru(rnn_input, hidden)\n",
        "        output = output.squeeze(1)\n",
        "        context = context.squeeze(1)\n",
        "        output = self.fc(torch.cat((output, context), dim=1))\n",
        "        return output, hidden, attn_weights\n",
        "\n",
        "\n",
        "class Seq2Seq(nn.Module):\n",
        "    def __init__(self, encoder, decoder, device):\n",
        "        super().__init__()\n",
        "        self.encoder = encoder\n",
        "        self.decoder = decoder\n",
        "        self.device = device\n",
        "        enc_dim = encoder.hidden_size * encoder.num_directions\n",
        "        dec_dim = decoder.gru.hidden_size\n",
        "        self.bridge = nn.Linear(enc_dim, dec_dim)\n",
        "\n",
        "    def create_mask(self, lengths, max_len):\n",
        "        batch_size = lengths.size(0)\n",
        "        mask = torch.arange(max_len).expand(batch_size, max_len).to(self.device)\n",
        "        return (mask < lengths.unsqueeze(1)).long()\n",
        "\n",
        "    def forward(self, src, trg, lengths, teacher_forcing_ratio=0.5):\n",
        "        batch_size, trg_len = trg.size()\n",
        "        vocab_size = self.decoder.embedding.num_embeddings\n",
        "        outputs = torch.zeros(batch_size, trg_len, vocab_size).to(self.device)\n",
        "\n",
        "        encoder_outputs, hidden = self.encoder(src, lengths)\n",
        "        hidden = torch.tanh(self.bridge(hidden.permute(1, 0, 2)))\n",
        "        hidden = hidden.permute(1, 0, 2).contiguous()\n",
        "\n",
        "        input_step = trg[:, 0]\n",
        "        mask = self.create_mask(lengths, encoder_outputs.size(1))\n",
        "\n",
        "        for t in range(1, trg_len):\n",
        "            output, hidden, _ = self.decoder(input_step, hidden, encoder_outputs, mask)\n",
        "            outputs[:, t] = output\n",
        "            teacher_force = random.random() < teacher_forcing_ratio\n",
        "            top1 = output.argmax(1)\n",
        "            input_step = trg[:, t] if teacher_force else top1\n",
        "        return outputs"
      ],
      "metadata": {
        "id": "B5URBWDR4TOO"
      },
      "execution_count": 32,
      "outputs": []
    },
    {
      "cell_type": "markdown",
      "source": [
        "# Traning & Evaluating"
      ],
      "metadata": {
        "id": "Oi4WUKTg4CYw"
      }
    },
    {
      "cell_type": "code",
      "source": [
        "\n",
        "def train_epoch(model, dataloader, optimizer, criterion, clip):\n",
        "    model.train()\n",
        "    epoch_loss, epoch_correct, epoch_total = 0, 0, 0\n",
        "    for src, trg, lengths in tqdm(dataloader, desc=\"Training\", leave=False):\n",
        "        src, trg, lengths = src.to(model.device), trg.to(model.device), lengths.to(model.device)\n",
        "        optimizer.zero_grad()\n",
        "        output = model(src, trg, lengths)\n",
        "        output_dim = output.shape[-1]\n",
        "        out = output[:, 1:].reshape(-1, output_dim)\n",
        "        trg_flat = trg[:, 1:].reshape(-1)\n",
        "        loss = criterion(out, trg_flat)\n",
        "        loss.backward()\n",
        "        torch.nn.utils.clip_grad_norm_(model.parameters(), clip)\n",
        "        optimizer.step()\n",
        "\n",
        "        epoch_loss += loss.item()\n",
        "        preds = out.argmax(1)\n",
        "        mask = trg_flat != dataloader.dataset.pad_idx\n",
        "        epoch_correct += (preds[mask] == trg_flat[mask]).sum().item()\n",
        "        epoch_total += mask.sum().item()\n",
        "\n",
        "    return epoch_loss / len(dataloader), epoch_correct / epoch_total\n",
        "\n",
        "\n",
        "def evaluate_epoch(model, dataloader, criterion):\n",
        "    model.eval()\n",
        "    epoch_loss, epoch_correct, epoch_total = 0, 0, 0\n",
        "    with torch.no_grad():\n",
        "        for src, trg, lengths in tqdm(dataloader, desc=\"Evaluating\", leave=False):\n",
        "            src, trg, lengths = src.to(model.device), trg.to(model.device), lengths.to(model.device)\n",
        "            output = model(src, trg, lengths, teacher_forcing_ratio=0)\n",
        "            output_dim = output.shape[-1]\n",
        "            out = output[:, 1:].reshape(-1, output_dim)\n",
        "            trg_flat = trg[:, 1:].reshape(-1)\n",
        "            loss = criterion(out, trg_flat)\n",
        "            epoch_loss += loss.item()\n",
        "            preds = out.argmax(1)\n",
        "            mask = trg_flat != dataloader.dataset.pad_idx\n",
        "            epoch_correct += (preds[mask] == trg_flat[mask]).sum().item()\n",
        "            epoch_total += mask.sum().item()\n",
        "\n",
        "    return epoch_loss / len(dataloader), epoch_correct / epoch_total"
      ],
      "metadata": {
        "id": "jJSECYog4AbS"
      },
      "execution_count": 33,
      "outputs": []
    },
    {
      "cell_type": "markdown",
      "source": [
        "# Main Runner"
      ],
      "metadata": {
        "id": "qUWQz8_W369s"
      }
    },
    {
      "cell_type": "code",
      "source": [
        "def main(args):\n",
        "    set_seed(args.seed)\n",
        "    device = torch.device('cuda' if torch.cuda.is_available() else 'cpu')\n",
        "\n",
        "    data = [([random.randint(1, args.vocab_size-1) for _ in range(args.seq_len)], None)\n",
        "            for _ in range(args.num_samples)]\n",
        "    data = [(src, list(reversed(src))) for src, _ in data]\n",
        "    split = int(len(data) * args.train_split)\n",
        "    train_data, val_data = data[:split], data[split:]\n",
        "\n",
        "    train_ds = ReverseDataset(train_data)\n",
        "    val_ds = ReverseDataset(val_data)\n",
        "    train_loader = DataLoader(train_ds, batch_size=args.batch_size, shuffle=True,\n",
        "                              collate_fn=ReverseDataset.collate_fn)\n",
        "    val_loader = DataLoader(val_ds, batch_size=args.batch_size, shuffle=False,\n",
        "                            collate_fn=ReverseDataset.collate_fn)\n",
        "\n",
        "    enc = Encoder(args.vocab_size, args.embed_size, args.hidden_size,\n",
        "                  args.enc_layers, args.dropout, bidirectional=True)\n",
        "    attn = Attention(enc.hidden_size * enc.num_directions, args.hidden_size)\n",
        "    dec = Decoder(args.vocab_size, args.embed_size,\n",
        "                  enc.hidden_size * enc.num_directions, args.hidden_size,\n",
        "                  attn, args.dec_layers, args.dropout)\n",
        "    model = Seq2Seq(enc, dec, device).to(device)\n",
        "\n",
        "    optimizer = optim.Adam(model.parameters(), lr=args.lr)\n",
        "    criterion = nn.CrossEntropyLoss(ignore_index=0)\n",
        "\n",
        "    writer = SummaryWriter(log_dir=args.log_dir)\n",
        "    best_val_loss = float('inf')\n",
        "    ckpt_dir = Path(args.checkpoint_dir)\n",
        "    ckpt_dir.mkdir(parents=True, exist_ok=True)\n",
        "\n",
        "    train_losses, val_losses = [], []\n",
        "    train_accs, val_accs = [], []\n",
        "\n",
        "    for epoch in range(1, args.epochs + 1):\n",
        "        train_loss, train_acc = train_epoch(model, train_loader, optimizer, criterion, args.clip)\n",
        "        val_loss, val_acc = evaluate_epoch(model, val_loader, criterion)\n",
        "\n",
        "        train_losses.append(train_loss)\n",
        "        val_losses.append(val_loss)\n",
        "        train_accs.append(train_acc)\n",
        "        val_accs.append(val_acc)\n",
        "\n",
        "        writer.add_scalars('Loss', {'train': train_loss, 'val': val_loss}, epoch)\n",
        "        writer.add_scalars('Accuracy', {'train': train_acc, 'val': val_acc}, epoch)\n",
        "\n",
        "        print(f\"Epoch {epoch:02d} | Train Loss: {train_loss*100:.2f}%, Acc: {train_acc*100:.2f}% | \"\n",
        "              f\"Val Loss: {val_loss*100:.2f}%, Acc: {val_acc*100:.2f}%\")\n",
        "\n",
        "        if val_loss < best_val_loss:\n",
        "            best_val_loss = val_loss\n",
        "            torch.save(model.state_dict(), ckpt_dir / 'best_model.pt')\n",
        "\n",
        "    writer.close()\n",
        "\n",
        "    # Plot Loss\n",
        "    plt.figure()\n",
        "    plt.plot(range(1, args.epochs + 1), train_losses, label='Train Loss')\n",
        "    plt.plot(range(1, args.epochs + 1), val_losses, label='Val Loss')\n",
        "    plt.xlabel('Epoch')\n",
        "    plt.ylabel('Loss')\n",
        "    plt.title('Loss Curves')\n",
        "    plt.legend()\n",
        "    plt.show()\n",
        "\n",
        "    # Plot Accuracy\n",
        "    plt.figure()\n",
        "    plt.plot(range(1, args.epochs + 1), train_accs, label='Train Acc')\n",
        "    plt.plot(range(1, args.epochs + 1), val_accs, label='Val Acc')\n",
        "    plt.xlabel('Epoch')\n",
        "    plt.ylabel('Accuracy')\n",
        "    plt.title('Accuracy Curves')\n",
        "    plt.legend()\n",
        "    plt.show()"
      ],
      "metadata": {
        "id": "-TCgGk_Q3ex2"
      },
      "execution_count": 34,
      "outputs": []
    },
    {
      "cell_type": "markdown",
      "source": [
        "# Calling the Main Function"
      ],
      "metadata": {
        "id": "0amRtzlw3hcb"
      }
    },
    {
      "cell_type": "code",
      "source": [
        "if __name__ == '__main__':\n",
        "    parser = argparse.ArgumentParser(description='Seq2Seq with Attention', add_help=False)\n",
        "    parser.add_argument('--num_samples', type=int, default=10000)\n",
        "    parser.add_argument('--seq_len', type=int, default=10)\n",
        "    parser.add_argument('--vocab_size', type=int, default=50)\n",
        "    parser.add_argument('--embed_size', type=int, default=64)\n",
        "    parser.add_argument('--hidden_size', type=int, default=128)\n",
        "    parser.add_argument('--enc_layers', type=int, default=2)\n",
        "    parser.add_argument('--dec_layers', type=int, default=2)\n",
        "    parser.add_argument('--dropout', type=float, default=0.2)\n",
        "    parser.add_argument('--batch_size', type=int, default=128)\n",
        "    parser.add_argument('--epochs', type=int, default=20)\n",
        "    parser.add_argument('--lr', type=float, default=1e-3)\n",
        "    parser.add_argument('--clip', type=float, default=1.0)\n",
        "    parser.add_argument('--train_split', type=float, default=0.8)\n",
        "    parser.add_argument('--seed', type=int, default=42)\n",
        "    parser.add_argument('--log_dir', type=str, default='runs')\n",
        "    parser.add_argument('--checkpoint_dir', type=str, default='checkpoints')\n",
        "    args, _ = parser.parse_known_args()\n",
        "    main(args)"
      ],
      "metadata": {
        "colab": {
          "base_uri": "https://localhost:8080/",
          "height": 1000
        },
        "id": "cLZ-oICO3jnn",
        "outputId": "e274563a-847d-4baf-add8-aa3f29ea9c8f"
      },
      "execution_count": 35,
      "outputs": [
        {
          "output_type": "stream",
          "name": "stderr",
          "text": []
        },
        {
          "output_type": "stream",
          "name": "stdout",
          "text": [
            "Epoch 01 | Train Loss: 316.30%, Acc: 16.73% | Val Loss: 196.13%, Acc: 40.92%\n"
          ]
        },
        {
          "output_type": "stream",
          "name": "stderr",
          "text": []
        },
        {
          "output_type": "stream",
          "name": "stdout",
          "text": [
            "Epoch 02 | Train Loss: 102.51%, Acc: 71.17% | Val Loss: 39.23%, Acc: 90.02%\n"
          ]
        },
        {
          "output_type": "stream",
          "name": "stderr",
          "text": []
        },
        {
          "output_type": "stream",
          "name": "stdout",
          "text": [
            "Epoch 03 | Train Loss: 27.11%, Acc: 94.29% | Val Loss: 8.04%, Acc: 98.89%\n"
          ]
        },
        {
          "output_type": "stream",
          "name": "stderr",
          "text": []
        },
        {
          "output_type": "stream",
          "name": "stdout",
          "text": [
            "Epoch 04 | Train Loss: 10.02%, Acc: 98.02% | Val Loss: 2.79%, Acc: 99.59%\n"
          ]
        },
        {
          "output_type": "stream",
          "name": "stderr",
          "text": []
        },
        {
          "output_type": "stream",
          "name": "stdout",
          "text": [
            "Epoch 05 | Train Loss: 3.24%, Acc: 99.50% | Val Loss: 3.75%, Acc: 99.14%\n"
          ]
        },
        {
          "output_type": "stream",
          "name": "stderr",
          "text": []
        },
        {
          "output_type": "stream",
          "name": "stdout",
          "text": [
            "Epoch 06 | Train Loss: 3.56%, Acc: 99.31% | Val Loss: 0.80%, Acc: 99.91%\n"
          ]
        },
        {
          "output_type": "stream",
          "name": "stderr",
          "text": []
        },
        {
          "output_type": "stream",
          "name": "stdout",
          "text": [
            "Epoch 07 | Train Loss: 1.58%, Acc: 99.75% | Val Loss: 0.47%, Acc: 99.96%\n"
          ]
        },
        {
          "output_type": "stream",
          "name": "stderr",
          "text": []
        },
        {
          "output_type": "stream",
          "name": "stdout",
          "text": [
            "Epoch 08 | Train Loss: 2.07%, Acc: 99.60% | Val Loss: 2.04%, Acc: 99.68%\n"
          ]
        },
        {
          "output_type": "stream",
          "name": "stderr",
          "text": []
        },
        {
          "output_type": "stream",
          "name": "stdout",
          "text": [
            "Epoch 09 | Train Loss: 2.33%, Acc: 99.56% | Val Loss: 0.22%, Acc: 99.99%\n"
          ]
        },
        {
          "output_type": "stream",
          "name": "stderr",
          "text": []
        },
        {
          "output_type": "stream",
          "name": "stdout",
          "text": [
            "Epoch 10 | Train Loss: 0.68%, Acc: 99.89% | Val Loss: 0.18%, Acc: 99.99%\n"
          ]
        },
        {
          "output_type": "stream",
          "name": "stderr",
          "text": []
        },
        {
          "output_type": "stream",
          "name": "stdout",
          "text": [
            "Epoch 11 | Train Loss: 1.61%, Acc: 99.69% | Val Loss: 0.21%, Acc: 100.00%\n"
          ]
        },
        {
          "output_type": "stream",
          "name": "stderr",
          "text": []
        },
        {
          "output_type": "stream",
          "name": "stdout",
          "text": [
            "Epoch 12 | Train Loss: 0.54%, Acc: 99.92% | Val Loss: 0.31%, Acc: 99.96%\n"
          ]
        },
        {
          "output_type": "stream",
          "name": "stderr",
          "text": []
        },
        {
          "output_type": "stream",
          "name": "stdout",
          "text": [
            "Epoch 13 | Train Loss: 0.42%, Acc: 99.94% | Val Loss: 0.09%, Acc: 100.00%\n"
          ]
        },
        {
          "output_type": "stream",
          "name": "stderr",
          "text": []
        },
        {
          "output_type": "stream",
          "name": "stdout",
          "text": [
            "Epoch 14 | Train Loss: 1.10%, Acc: 99.79% | Val Loss: 0.15%, Acc: 100.00%\n"
          ]
        },
        {
          "output_type": "stream",
          "name": "stderr",
          "text": []
        },
        {
          "output_type": "stream",
          "name": "stdout",
          "text": [
            "Epoch 15 | Train Loss: 0.75%, Acc: 99.88% | Val Loss: 0.30%, Acc: 99.93%\n"
          ]
        },
        {
          "output_type": "stream",
          "name": "stderr",
          "text": []
        },
        {
          "output_type": "stream",
          "name": "stdout",
          "text": [
            "Epoch 16 | Train Loss: 0.44%, Acc: 99.93% | Val Loss: 0.08%, Acc: 100.00%\n"
          ]
        },
        {
          "output_type": "stream",
          "name": "stderr",
          "text": []
        },
        {
          "output_type": "stream",
          "name": "stdout",
          "text": [
            "Epoch 17 | Train Loss: 0.25%, Acc: 99.95% | Val Loss: 0.08%, Acc: 99.99%\n"
          ]
        },
        {
          "output_type": "stream",
          "name": "stderr",
          "text": []
        },
        {
          "output_type": "stream",
          "name": "stdout",
          "text": [
            "Epoch 18 | Train Loss: 0.50%, Acc: 99.91% | Val Loss: 0.14%, Acc: 99.99%\n"
          ]
        },
        {
          "output_type": "stream",
          "name": "stderr",
          "text": []
        },
        {
          "output_type": "stream",
          "name": "stdout",
          "text": [
            "Epoch 19 | Train Loss: 0.83%, Acc: 99.86% | Val Loss: 0.18%, Acc: 99.97%\n"
          ]
        },
        {
          "output_type": "stream",
          "name": "stderr",
          "text": []
        },
        {
          "output_type": "stream",
          "name": "stdout",
          "text": [
            "Epoch 20 | Train Loss: 0.72%, Acc: 99.87% | Val Loss: 0.07%, Acc: 100.00%\n"
          ]
        },
        {
          "output_type": "display_data",
          "data": {
            "text/plain": [
              "<Figure size 640x480 with 1 Axes>"
            ],
            "image/png": "[encoded data removed]"
          },
          "metadata": {}
        },
        {
          "output_type": "display_data",
          "data": {
            "text/plain": [
              "<Figure size 640x480 with 1 Axes>"
            ],
            "image/png": "[encoded data removed]"
          },
          "metadata": {}
        }
      ]
    }
  ]
}